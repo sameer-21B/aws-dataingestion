{
 "cells": [
  {
   "cell_type": "code",
   "execution_count": 1,
   "metadata": {},
   "outputs": [],
   "source": [
    "from datetime import datetime as d\n",
    "import boto3 as b3\n",
    "from io import StringIO\n",
    "import pandas as pd\n",
    "import numpy as np\n",
    "import pickle\n",
    "import json"
   ]
  },
  {
   "cell_type": "code",
   "execution_count": 21,
   "metadata": {},
   "outputs": [
    {
     "data": {
      "text/html": [
       "<div>\n",
       "<style scoped>\n",
       "    .dataframe tbody tr th:only-of-type {\n",
       "        vertical-align: middle;\n",
       "    }\n",
       "\n",
       "    .dataframe tbody tr th {\n",
       "        vertical-align: top;\n",
       "    }\n",
       "\n",
       "    .dataframe thead th {\n",
       "        text-align: right;\n",
       "    }\n",
       "</style>\n",
       "<table border=\"1\" class=\"dataframe\">\n",
       "  <thead>\n",
       "    <tr style=\"text-align: right;\">\n",
       "      <th></th>\n",
       "      <th>InvoiceNo</th>\n",
       "      <th>StockCode</th>\n",
       "      <th>Description</th>\n",
       "      <th>Quantity</th>\n",
       "      <th>InvoiceDate</th>\n",
       "      <th>UnitPrice</th>\n",
       "      <th>CustomerID</th>\n",
       "      <th>Country</th>\n",
       "    </tr>\n",
       "  </thead>\n",
       "  <tbody>\n",
       "    <tr>\n",
       "      <th>0</th>\n",
       "      <td>536365</td>\n",
       "      <td>85123A</td>\n",
       "      <td>WHITE HANGING HEART T-LIGHT HOLDER</td>\n",
       "      <td>6</td>\n",
       "      <td>2010-12-01</td>\n",
       "      <td>2.55</td>\n",
       "      <td>17850.0</td>\n",
       "      <td>United Kingdom</td>\n",
       "    </tr>\n",
       "    <tr>\n",
       "      <th>1</th>\n",
       "      <td>536365</td>\n",
       "      <td>71053</td>\n",
       "      <td>WHITE METAL LANTERN</td>\n",
       "      <td>6</td>\n",
       "      <td>2010-12-01</td>\n",
       "      <td>3.39</td>\n",
       "      <td>17850.0</td>\n",
       "      <td>United Kingdom</td>\n",
       "    </tr>\n",
       "    <tr>\n",
       "      <th>2</th>\n",
       "      <td>536365</td>\n",
       "      <td>84406B</td>\n",
       "      <td>CREAM CUPID HEARTS COAT HANGER</td>\n",
       "      <td>8</td>\n",
       "      <td>2010-12-01</td>\n",
       "      <td>2.75</td>\n",
       "      <td>17850.0</td>\n",
       "      <td>United Kingdom</td>\n",
       "    </tr>\n",
       "    <tr>\n",
       "      <th>3</th>\n",
       "      <td>536365</td>\n",
       "      <td>84029G</td>\n",
       "      <td>KNITTED UNION FLAG HOT WATER BOTTLE</td>\n",
       "      <td>6</td>\n",
       "      <td>2010-12-01</td>\n",
       "      <td>3.39</td>\n",
       "      <td>17850.0</td>\n",
       "      <td>United Kingdom</td>\n",
       "    </tr>\n",
       "    <tr>\n",
       "      <th>4</th>\n",
       "      <td>536365</td>\n",
       "      <td>84029E</td>\n",
       "      <td>RED WOOLLY HOTTIE WHITE HEART.</td>\n",
       "      <td>6</td>\n",
       "      <td>2010-12-01</td>\n",
       "      <td>3.39</td>\n",
       "      <td>17850.0</td>\n",
       "      <td>United Kingdom</td>\n",
       "    </tr>\n",
       "  </tbody>\n",
       "</table>\n",
       "</div>"
      ],
      "text/plain": [
       "  InvoiceNo StockCode                          Description  Quantity  \\\n",
       "0    536365    85123A   WHITE HANGING HEART T-LIGHT HOLDER         6   \n",
       "1    536365     71053                  WHITE METAL LANTERN         6   \n",
       "2    536365    84406B       CREAM CUPID HEARTS COAT HANGER         8   \n",
       "3    536365    84029G  KNITTED UNION FLAG HOT WATER BOTTLE         6   \n",
       "4    536365    84029E       RED WOOLLY HOTTIE WHITE HEART.         6   \n",
       "\n",
       "  InvoiceDate  UnitPrice  CustomerID         Country  \n",
       "0  2010-12-01       2.55     17850.0  United Kingdom  \n",
       "1  2010-12-01       3.39     17850.0  United Kingdom  \n",
       "2  2010-12-01       2.75     17850.0  United Kingdom  \n",
       "3  2010-12-01       3.39     17850.0  United Kingdom  \n",
       "4  2010-12-01       3.39     17850.0  United Kingdom  "
      ]
     },
     "execution_count": 21,
     "metadata": {},
     "output_type": "execute_result"
    }
   ],
   "source": [
    "data=pd.read_csv(\"ecom_data.csv\")\n",
    "data.drop(\"Unnamed: 0\",inplace=True,axis=1)\n",
    "data.InvoiceDate=pd.to_datetime(data.InvoiceDate)\n",
    "data.InvoiceDate=data.InvoiceDate.apply(lambda x:x.date())\n",
    "data.head()"
   ]
  },
  {
   "cell_type": "code",
   "execution_count": 22,
   "metadata": {},
   "outputs": [
    {
     "data": {
      "text/plain": [
       "array([datetime.date(2010, 12, 1), datetime.date(2010, 12, 2),\n",
       "       datetime.date(2010, 12, 3), datetime.date(2010, 12, 5),\n",
       "       datetime.date(2010, 12, 6), datetime.date(2010, 12, 7),\n",
       "       datetime.date(2010, 12, 8), datetime.date(2010, 12, 9),\n",
       "       datetime.date(2010, 12, 10), datetime.date(2010, 12, 12),\n",
       "       datetime.date(2010, 12, 13), datetime.date(2010, 12, 14),\n",
       "       datetime.date(2010, 12, 15), datetime.date(2010, 12, 16),\n",
       "       datetime.date(2010, 12, 17), datetime.date(2010, 12, 19),\n",
       "       datetime.date(2010, 12, 20), datetime.date(2010, 12, 21),\n",
       "       datetime.date(2010, 12, 22), datetime.date(2010, 12, 23),\n",
       "       datetime.date(2011, 1, 4), datetime.date(2011, 1, 5),\n",
       "       datetime.date(2011, 1, 6), datetime.date(2011, 1, 7),\n",
       "       datetime.date(2011, 1, 9), datetime.date(2011, 1, 10),\n",
       "       datetime.date(2011, 1, 11), datetime.date(2011, 1, 12),\n",
       "       datetime.date(2011, 1, 13), datetime.date(2011, 1, 14),\n",
       "       datetime.date(2011, 1, 16), datetime.date(2011, 1, 17),\n",
       "       datetime.date(2011, 1, 18), datetime.date(2011, 1, 19),\n",
       "       datetime.date(2011, 1, 20), datetime.date(2011, 1, 21),\n",
       "       datetime.date(2011, 1, 23), datetime.date(2011, 1, 24),\n",
       "       datetime.date(2011, 1, 25), datetime.date(2011, 1, 26),\n",
       "       datetime.date(2011, 1, 27), datetime.date(2011, 1, 28),\n",
       "       datetime.date(2011, 1, 30), datetime.date(2011, 1, 31),\n",
       "       datetime.date(2011, 2, 1), datetime.date(2011, 2, 2),\n",
       "       datetime.date(2011, 2, 3), datetime.date(2011, 2, 4),\n",
       "       datetime.date(2011, 2, 6), datetime.date(2011, 2, 7),\n",
       "       datetime.date(2011, 2, 8), datetime.date(2011, 2, 9),\n",
       "       datetime.date(2011, 2, 10), datetime.date(2011, 2, 11),\n",
       "       datetime.date(2011, 2, 13), datetime.date(2011, 2, 14),\n",
       "       datetime.date(2011, 2, 15), datetime.date(2011, 2, 16),\n",
       "       datetime.date(2011, 2, 17), datetime.date(2011, 2, 18),\n",
       "       datetime.date(2011, 2, 20), datetime.date(2011, 2, 21),\n",
       "       datetime.date(2011, 2, 22), datetime.date(2011, 2, 23),\n",
       "       datetime.date(2011, 2, 24), datetime.date(2011, 2, 25),\n",
       "       datetime.date(2011, 2, 27), datetime.date(2011, 2, 28),\n",
       "       datetime.date(2011, 3, 1), datetime.date(2011, 3, 2),\n",
       "       datetime.date(2011, 3, 3), datetime.date(2011, 3, 4),\n",
       "       datetime.date(2011, 3, 6), datetime.date(2011, 3, 7),\n",
       "       datetime.date(2011, 3, 8), datetime.date(2011, 3, 9),\n",
       "       datetime.date(2011, 3, 10), datetime.date(2011, 3, 11),\n",
       "       datetime.date(2011, 3, 13), datetime.date(2011, 3, 14),\n",
       "       datetime.date(2011, 3, 15), datetime.date(2011, 3, 16),\n",
       "       datetime.date(2011, 3, 17), datetime.date(2011, 3, 18),\n",
       "       datetime.date(2011, 3, 20), datetime.date(2011, 3, 21),\n",
       "       datetime.date(2011, 3, 22), datetime.date(2011, 3, 23),\n",
       "       datetime.date(2011, 3, 24), datetime.date(2011, 3, 25),\n",
       "       datetime.date(2011, 3, 27), datetime.date(2011, 3, 28),\n",
       "       datetime.date(2011, 3, 29), datetime.date(2011, 3, 30),\n",
       "       datetime.date(2011, 3, 31), datetime.date(2011, 4, 1),\n",
       "       datetime.date(2011, 4, 3), datetime.date(2011, 4, 4),\n",
       "       datetime.date(2011, 4, 5), datetime.date(2011, 4, 6),\n",
       "       datetime.date(2011, 4, 7), datetime.date(2011, 4, 8),\n",
       "       datetime.date(2011, 4, 10), datetime.date(2011, 4, 11),\n",
       "       datetime.date(2011, 4, 12), datetime.date(2011, 4, 13),\n",
       "       datetime.date(2011, 4, 14), datetime.date(2011, 4, 15),\n",
       "       datetime.date(2011, 4, 17), datetime.date(2011, 4, 18),\n",
       "       datetime.date(2011, 4, 19), datetime.date(2011, 4, 20),\n",
       "       datetime.date(2011, 4, 21), datetime.date(2011, 4, 26),\n",
       "       datetime.date(2011, 4, 27), datetime.date(2011, 4, 28),\n",
       "       datetime.date(2011, 5, 1), datetime.date(2011, 5, 3),\n",
       "       datetime.date(2011, 5, 4), datetime.date(2011, 5, 5),\n",
       "       datetime.date(2011, 5, 6), datetime.date(2011, 5, 8),\n",
       "       datetime.date(2011, 5, 9), datetime.date(2011, 5, 10),\n",
       "       datetime.date(2011, 5, 11), datetime.date(2011, 5, 12),\n",
       "       datetime.date(2011, 5, 13), datetime.date(2011, 5, 15),\n",
       "       datetime.date(2011, 5, 16), datetime.date(2011, 5, 17),\n",
       "       datetime.date(2011, 5, 18), datetime.date(2011, 5, 19),\n",
       "       datetime.date(2011, 5, 20), datetime.date(2011, 5, 22),\n",
       "       datetime.date(2011, 5, 23), datetime.date(2011, 5, 24),\n",
       "       datetime.date(2011, 5, 25), datetime.date(2011, 5, 26),\n",
       "       datetime.date(2011, 5, 27), datetime.date(2011, 5, 29),\n",
       "       datetime.date(2011, 5, 31), datetime.date(2011, 6, 1),\n",
       "       datetime.date(2011, 6, 2), datetime.date(2011, 6, 3),\n",
       "       datetime.date(2011, 6, 5), datetime.date(2011, 6, 6),\n",
       "       datetime.date(2011, 6, 7), datetime.date(2011, 6, 8),\n",
       "       datetime.date(2011, 6, 9), datetime.date(2011, 6, 10),\n",
       "       datetime.date(2011, 6, 12), datetime.date(2011, 6, 13),\n",
       "       datetime.date(2011, 6, 14), datetime.date(2011, 6, 15),\n",
       "       datetime.date(2011, 6, 16), datetime.date(2011, 6, 17),\n",
       "       datetime.date(2011, 6, 19), datetime.date(2011, 6, 20),\n",
       "       datetime.date(2011, 6, 21), datetime.date(2011, 6, 22),\n",
       "       datetime.date(2011, 6, 23), datetime.date(2011, 6, 24),\n",
       "       datetime.date(2011, 6, 26), datetime.date(2011, 6, 27),\n",
       "       datetime.date(2011, 6, 28), datetime.date(2011, 6, 29),\n",
       "       datetime.date(2011, 6, 30), datetime.date(2011, 7, 1),\n",
       "       datetime.date(2011, 7, 3), datetime.date(2011, 7, 4),\n",
       "       datetime.date(2011, 7, 5), datetime.date(2011, 7, 6),\n",
       "       datetime.date(2011, 7, 7), datetime.date(2011, 7, 8),\n",
       "       datetime.date(2011, 7, 10), datetime.date(2011, 7, 11),\n",
       "       datetime.date(2011, 7, 12), datetime.date(2011, 7, 13),\n",
       "       datetime.date(2011, 7, 14), datetime.date(2011, 7, 15),\n",
       "       datetime.date(2011, 7, 17), datetime.date(2011, 7, 18),\n",
       "       datetime.date(2011, 7, 19), datetime.date(2011, 7, 20),\n",
       "       datetime.date(2011, 7, 21), datetime.date(2011, 7, 22),\n",
       "       datetime.date(2011, 7, 24), datetime.date(2011, 7, 25),\n",
       "       datetime.date(2011, 7, 26), datetime.date(2011, 7, 27),\n",
       "       datetime.date(2011, 7, 28), datetime.date(2011, 7, 29),\n",
       "       datetime.date(2011, 7, 31), datetime.date(2011, 8, 1),\n",
       "       datetime.date(2011, 8, 2), datetime.date(2011, 8, 3),\n",
       "       datetime.date(2011, 8, 4), datetime.date(2011, 8, 5),\n",
       "       datetime.date(2011, 8, 7), datetime.date(2011, 8, 8),\n",
       "       datetime.date(2011, 8, 9), datetime.date(2011, 8, 10),\n",
       "       datetime.date(2011, 8, 11), datetime.date(2011, 8, 12),\n",
       "       datetime.date(2011, 8, 14), datetime.date(2011, 8, 15),\n",
       "       datetime.date(2011, 8, 16), datetime.date(2011, 8, 17),\n",
       "       datetime.date(2011, 8, 18), datetime.date(2011, 8, 19),\n",
       "       datetime.date(2011, 8, 21), datetime.date(2011, 8, 22),\n",
       "       datetime.date(2011, 8, 23), datetime.date(2011, 8, 24),\n",
       "       datetime.date(2011, 8, 25), datetime.date(2011, 8, 26),\n",
       "       datetime.date(2011, 8, 28), datetime.date(2011, 8, 30),\n",
       "       datetime.date(2011, 8, 31), datetime.date(2011, 9, 1),\n",
       "       datetime.date(2011, 9, 2), datetime.date(2011, 9, 4),\n",
       "       datetime.date(2011, 9, 5), datetime.date(2011, 9, 6),\n",
       "       datetime.date(2011, 9, 7), datetime.date(2011, 9, 8),\n",
       "       datetime.date(2011, 9, 9), datetime.date(2011, 9, 11),\n",
       "       datetime.date(2011, 9, 12), datetime.date(2011, 9, 13),\n",
       "       datetime.date(2011, 9, 14), datetime.date(2011, 9, 15),\n",
       "       datetime.date(2011, 9, 16), datetime.date(2011, 9, 18),\n",
       "       datetime.date(2011, 9, 19), datetime.date(2011, 9, 20),\n",
       "       datetime.date(2011, 9, 21), datetime.date(2011, 9, 22),\n",
       "       datetime.date(2011, 9, 23), datetime.date(2011, 9, 25),\n",
       "       datetime.date(2011, 9, 26), datetime.date(2011, 9, 27),\n",
       "       datetime.date(2011, 9, 28), datetime.date(2011, 9, 29),\n",
       "       datetime.date(2011, 9, 30), datetime.date(2011, 10, 2),\n",
       "       datetime.date(2011, 10, 3), datetime.date(2011, 10, 4),\n",
       "       datetime.date(2011, 10, 5), datetime.date(2011, 10, 6),\n",
       "       datetime.date(2011, 10, 7), datetime.date(2011, 10, 9),\n",
       "       datetime.date(2011, 10, 10), datetime.date(2011, 10, 11),\n",
       "       datetime.date(2011, 10, 12), datetime.date(2011, 10, 13),\n",
       "       datetime.date(2011, 10, 14), datetime.date(2011, 10, 16),\n",
       "       datetime.date(2011, 10, 17), datetime.date(2011, 10, 18),\n",
       "       datetime.date(2011, 10, 19), datetime.date(2011, 10, 20),\n",
       "       datetime.date(2011, 10, 21), datetime.date(2011, 10, 23),\n",
       "       datetime.date(2011, 10, 24), datetime.date(2011, 10, 25),\n",
       "       datetime.date(2011, 10, 26), datetime.date(2011, 10, 27),\n",
       "       datetime.date(2011, 10, 28), datetime.date(2011, 10, 30),\n",
       "       datetime.date(2011, 10, 31), datetime.date(2011, 11, 1),\n",
       "       datetime.date(2011, 11, 2), datetime.date(2011, 11, 3),\n",
       "       datetime.date(2011, 11, 4), datetime.date(2011, 11, 6),\n",
       "       datetime.date(2011, 11, 7), datetime.date(2011, 11, 8),\n",
       "       datetime.date(2011, 11, 9), datetime.date(2011, 11, 10),\n",
       "       datetime.date(2011, 11, 11), datetime.date(2011, 11, 13),\n",
       "       datetime.date(2011, 11, 14), datetime.date(2011, 11, 15),\n",
       "       datetime.date(2011, 11, 16), datetime.date(2011, 11, 17),\n",
       "       datetime.date(2011, 11, 18), datetime.date(2011, 11, 20),\n",
       "       datetime.date(2011, 11, 21), datetime.date(2011, 11, 22),\n",
       "       datetime.date(2011, 11, 23), datetime.date(2011, 11, 24),\n",
       "       datetime.date(2011, 11, 25), datetime.date(2011, 11, 27),\n",
       "       datetime.date(2011, 11, 28), datetime.date(2011, 11, 29),\n",
       "       datetime.date(2011, 11, 30), datetime.date(2011, 12, 1),\n",
       "       datetime.date(2011, 12, 2), datetime.date(2011, 12, 4),\n",
       "       datetime.date(2011, 12, 5), datetime.date(2011, 12, 6),\n",
       "       datetime.date(2011, 12, 7), datetime.date(2011, 12, 8),\n",
       "       datetime.date(2011, 12, 9)], dtype=object)"
      ]
     },
     "execution_count": 22,
     "metadata": {},
     "output_type": "execute_result"
    }
   ],
   "source": [
    "data.InvoiceDate.unique()"
   ]
  },
  {
   "cell_type": "code",
   "execution_count": 23,
   "metadata": {},
   "outputs": [
    {
     "data": {
      "text/plain": [
       "<method 'date' of 'datetime.datetime' objects>"
      ]
     },
     "execution_count": 23,
     "metadata": {},
     "output_type": "execute_result"
    }
   ],
   "source": [
    "d.date"
   ]
  },
  {
   "cell_type": "code",
   "execution_count": 25,
   "metadata": {},
   "outputs": [
    {
     "name": "stdout",
     "output_type": "stream",
     "text": [
      "2023-06-10\n"
     ]
    }
   ],
   "source": [
    "from datetime import date\n",
    "tod=date.today()\n",
    "print(tod)"
   ]
  },
  {
   "cell_type": "code",
   "execution_count": 30,
   "metadata": {},
   "outputs": [
    {
     "data": {
      "text/plain": [
       "10"
      ]
     },
     "execution_count": 30,
     "metadata": {},
     "output_type": "execute_result"
    }
   ],
   "source": [
    "int(tod.strftime(r\"%d\"))"
   ]
  },
  {
   "attachments": {},
   "cell_type": "markdown",
   "metadata": {},
   "source": [
    "Create MYSQL-RDS Instance on AWS"
   ]
  },
  {
   "cell_type": "code",
   "execution_count": 8,
   "metadata": {},
   "outputs": [],
   "source": [
    "rds_client=b3.client('rds')\n",
    "response=rds_client.create_db_instance(\n",
    "    AllocatedStorage=20,\n",
    "    StorageType='gp2',\n",
    "    DBInstanceClass='db.t3.micro',\n",
    "    DBInstanceIdentifier='ecom-database',\n",
    "    Engine='MySQL',\n",
    "    EngineVersion='8.0.32',\n",
    "    MasterUserPassword='ingestion123',\n",
    "    MasterUsername='ingestion_user',\n",
    "    PubliclyAccessible=False,\n",
    "    EnableIAMDatabaseAuthentication=True\n",
    ")"
   ]
  },
  {
   "cell_type": "code",
   "execution_count": null,
   "metadata": {},
   "outputs": [],
   "source": []
  }
 ],
 "metadata": {
  "kernelspec": {
   "display_name": "awsenv",
   "language": "python",
   "name": "python3"
  },
  "language_info": {
   "codemirror_mode": {
    "name": "ipython",
    "version": 3
   },
   "file_extension": ".py",
   "mimetype": "text/x-python",
   "name": "python",
   "nbconvert_exporter": "python",
   "pygments_lexer": "ipython3",
   "version": "3.11.4"
  },
  "orig_nbformat": 4
 },
 "nbformat": 4,
 "nbformat_minor": 2
}
